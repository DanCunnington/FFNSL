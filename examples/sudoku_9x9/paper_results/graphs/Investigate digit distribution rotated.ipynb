{
 "cells": [
  {
   "cell_type": "code",
   "execution_count": 1,
   "metadata": {},
   "outputs": [],
   "source": [
    "import json"
   ]
  },
  {
   "cell_type": "code",
   "execution_count": 16,
   "metadata": {},
   "outputs": [],
   "source": [
    "edl_gen_rotated = json.loads(open('../../cache/digit_predictions/edl_gen/rotated_test_set.json', 'r').read())\n",
    "softmax_rotated = json.loads(open('../../cache/digit_predictions/softmax/rotated_test_set.json', 'r').read())\n",
    "edl_gen_standard = json.loads(open('../../cache/digit_predictions/edl_gen/standard_test_set.json', 'r').read())\n",
    "softmax_standard = json.loads(open('../../cache/digit_predictions/softmax/standard_test_set.json', 'r').read())"
   ]
  },
  {
   "cell_type": "code",
   "execution_count": 17,
   "metadata": {},
   "outputs": [],
   "source": [
    "def digit_distribution(preds):\n",
    "    digits = {}\n",
    "    for d in range(10):\n",
    "        digits[str(d)] = 0\n",
    "    for img in preds:\n",
    "        pred = preds[img][0]\n",
    "        digits[str(pred)] += 1\n",
    "    return digits"
   ]
  },
  {
   "cell_type": "code",
   "execution_count": 18,
   "metadata": {},
   "outputs": [
    {
     "data": {
      "text/plain": [
       "{'0': 1987,\n",
       " '1': 35,\n",
       " '2': 3675,\n",
       " '3': 17,\n",
       " '4': 866,\n",
       " '5': 1156,\n",
       " '6': 574,\n",
       " '7': 528,\n",
       " '8': 448,\n",
       " '9': 714}"
      ]
     },
     "execution_count": 18,
     "metadata": {},
     "output_type": "execute_result"
    }
   ],
   "source": [
    "digit_distribution(edl_gen_rotated)"
   ]
  },
  {
   "cell_type": "code",
   "execution_count": 19,
   "metadata": {},
   "outputs": [
    {
     "data": {
      "text/plain": [
       "{'0': 2269,\n",
       " '1': 108,\n",
       " '2': 1174,\n",
       " '3': 54,\n",
       " '4': 1997,\n",
       " '5': 1306,\n",
       " '6': 851,\n",
       " '7': 404,\n",
       " '8': 762,\n",
       " '9': 1075}"
      ]
     },
     "execution_count": 19,
     "metadata": {},
     "output_type": "execute_result"
    }
   ],
   "source": [
    "digit_distribution(softmax_rotated)"
   ]
  },
  {
   "cell_type": "code",
   "execution_count": 20,
   "metadata": {},
   "outputs": [
    {
     "data": {
      "text/plain": [
       "{'0': 983,\n",
       " '1': 1143,\n",
       " '2': 1032,\n",
       " '3': 1000,\n",
       " '4': 976,\n",
       " '5': 898,\n",
       " '6': 953,\n",
       " '7': 1034,\n",
       " '8': 976,\n",
       " '9': 1005}"
      ]
     },
     "execution_count": 20,
     "metadata": {},
     "output_type": "execute_result"
    }
   ],
   "source": [
    "digit_distribution(softmax_standard)"
   ]
  },
  {
   "cell_type": "code",
   "execution_count": 21,
   "metadata": {},
   "outputs": [
    {
     "data": {
      "text/plain": [
       "{'0': 982,\n",
       " '1': 1139,\n",
       " '2': 1042,\n",
       " '3': 1012,\n",
       " '4': 979,\n",
       " '5': 906,\n",
       " '6': 942,\n",
       " '7': 1021,\n",
       " '8': 974,\n",
       " '9': 1003}"
      ]
     },
     "execution_count": 21,
     "metadata": {},
     "output_type": "execute_result"
    }
   ],
   "source": [
    "digit_distribution(edl_gen_standard)"
   ]
  },
  {
   "cell_type": "code",
   "execution_count": null,
   "metadata": {},
   "outputs": [],
   "source": []
  }
 ],
 "metadata": {
  "kernelspec": {
   "display_name": "Python 3",
   "language": "python",
   "name": "python3"
  },
  "language_info": {
   "codemirror_mode": {
    "name": "ipython",
    "version": 3
   },
   "file_extension": ".py",
   "mimetype": "text/x-python",
   "name": "python",
   "nbconvert_exporter": "python",
   "pygments_lexer": "ipython3",
   "version": "3.7.3"
  }
 },
 "nbformat": 4,
 "nbformat_minor": 4
}

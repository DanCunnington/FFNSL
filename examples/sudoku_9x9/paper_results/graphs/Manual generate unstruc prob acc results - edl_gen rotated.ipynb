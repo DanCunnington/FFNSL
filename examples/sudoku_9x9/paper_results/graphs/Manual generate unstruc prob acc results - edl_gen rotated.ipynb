{
 "cells": [
  {
   "cell_type": "code",
   "execution_count": 10,
   "metadata": {},
   "outputs": [],
   "source": [
    "import json\n",
    "from scipy import stats\n",
    "import numpy as np"
   ]
  },
  {
   "cell_type": "code",
   "execution_count": 11,
   "metadata": {},
   "outputs": [],
   "source": [
    "raw_acc = {\n",
    "    '10': [0.929, 0.929, 0.93, 0.929, 0.929],\n",
    "    '20': [0.879, 0.879, 0.879, 0.879, 0.879],\n",
    "    '30': [0.831, 0.831, 0.832, 0.831, 0.831],\n",
    "    '40': [0.796, 0.796, 0.796, 0.796, 0.796],\n",
    "    '50': [0.749, 0.749, 0.749, 0.749, 0.749],\n",
    "    '60': [0.701, 0.701, 0.701, 0.701, 0.701],\n",
    "    '70': [0.648, 0.648, 0.648, 0.648, 0.648],\n",
    "    '80': [0.601, 0.601, 0.601, 0.601, 0.601],\n",
    "    '90': [0.557, 0.557, 0.557, 0.557, 0.557]\n",
    "}"
   ]
  },
  {
   "cell_type": "code",
   "execution_count": 12,
   "metadata": {},
   "outputs": [],
   "source": [
    "raw_prob_acc = {\n",
    "    '10': [0.8979978040880002, 0.8979978040880002, 0.8998203759950004, 0.8979978040880002, 0.8979978040880002],\n",
    "    '20': [0.8537043887099998, 0.8537043887099998, 0.8537043887099998, 0.8537043887099998, 0.8537043887099998],\n",
    "    '30': [0.8133370706930001, 0.8133370706930001, 0.8151561667730004, 0.8133370706930001, 0.8133370706930001],\n",
    "    '40': [0.7814459374429998, 0.7814459374429998, 0.7814459374429998, 0.7814459374429998, 0.7814459374429998],\n",
    "    '50': [0.7402362650709996, 0.7402362650709996, 0.7402362650709996, 0.7402362650709996, 0.7402362650709996],\n",
    "    '60': [0.6988165360259995, 0.6988165360259995, 0.6988165360259995, 0.6988165360259995, 0.6988165360259995],\n",
    "    '70': [0.6543192546069998, 0.6543192546069998, 0.6552139998869997, 0.6543192546069998, 0.6543192546069998],\n",
    "    '80': [0.6138959648150004, 0.6138959648150004, 0.6142220579160002, 0.6138959648150004, 0.6138959648150004],\n",
    "    '90': [0.5746728621899999, 0.5746728621899999, 0.5746728621899999, 0.5746728621899999, 0.5746728621899999]\n",
    "}"
   ]
  },
  {
   "cell_type": "code",
   "execution_count": 13,
   "metadata": {},
   "outputs": [],
   "source": [
    "results = {}\n",
    "for n in raw_acc:\n",
    "    results['noise_pct_'+n] = {\n",
    "        \"accuracy\": {\n",
    "            \"mean\": np.mean(raw_acc[n]),\n",
    "            \"std\": np.std(raw_acc[n]),\n",
    "            \"std_err\": stats.sem(raw_acc[n])\n",
    "        },\n",
    "        \"prob_accuracy\": {\n",
    "            \"mean\": np.mean(raw_prob_acc[n]),\n",
    "            \"std\": np.std(raw_prob_acc[n]),\n",
    "            \"std_err\": stats.sem(raw_prob_acc[n])\n",
    "        }\n",
    "    }\n",
    "with open('../nsl/unstructured_test_data/edl_gen/rotated.json', 'w') as outf:\n",
    "    outf.write(json.dumps(results))"
   ]
  },
  {
   "cell_type": "code",
   "execution_count": null,
   "metadata": {},
   "outputs": [],
   "source": []
  }
 ],
 "metadata": {
  "kernelspec": {
   "display_name": "Python 3",
   "language": "python",
   "name": "python3"
  },
  "language_info": {
   "codemirror_mode": {
    "name": "ipython",
    "version": 3
   },
   "file_extension": ".py",
   "mimetype": "text/x-python",
   "name": "python",
   "nbconvert_exporter": "python",
   "pygments_lexer": "ipython3",
   "version": "3.7.3"
  }
 },
 "nbformat": 4,
 "nbformat_minor": 4
}

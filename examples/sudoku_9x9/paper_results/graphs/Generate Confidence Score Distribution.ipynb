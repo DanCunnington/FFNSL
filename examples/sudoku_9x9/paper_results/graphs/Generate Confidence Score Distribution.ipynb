{
 "cells": [
  {
   "cell_type": "code",
   "execution_count": 1,
   "metadata": {},
   "outputs": [],
   "source": [
    "import matplotlib.pyplot as plt\n",
    "import numpy as np\n",
    "import json"
   ]
  },
  {
   "cell_type": "code",
   "execution_count": 2,
   "metadata": {},
   "outputs": [],
   "source": [
    "category_names = ['0 - 0.25', '0.25 - 0.5','0.5 - 0.75', '0.75 - 0.9', '0.9 - 0.95', '0.95 - 1']\n",
    "\n",
    "networks = ['softmax', 'edl_gen']\n",
    "datasets = ['standard', 'rotated']"
   ]
  },
  {
   "cell_type": "code",
   "execution_count": 3,
   "metadata": {},
   "outputs": [],
   "source": [
    "def calculate_confidence_percentages(conf_counts):\n",
    "    total = sum(conf_counts.values())\n",
    "    conf_counts['>95%'] = conf_counts['>95%'] / total\n",
    "    conf_counts['>90%'] = conf_counts['>90%'] / total\n",
    "    conf_counts['>75%'] = conf_counts['>75%'] / total\n",
    "    conf_counts['>50%'] = conf_counts['>50%'] / total\n",
    "    conf_counts['>25%'] = conf_counts['>25%'] / total\n",
    "    conf_counts['>0%'] = conf_counts['>0%'] / total\n",
    "\n",
    "    return [conf_counts['>0%']*100,conf_counts['>25%']*100,conf_counts['>50%']*100,conf_counts['>75%']*100,conf_counts['>90%']*100,conf_counts['>95%']*100]"
   ]
  },
  {
   "cell_type": "code",
   "execution_count": 4,
   "metadata": {},
   "outputs": [],
   "source": [
    "def plot(conf_scores, test_accuracies, category_names, bar_labels):\n",
    "    labels = []\n",
    "    data = []\n",
    "    for idx, r in enumerate(conf_scores):\n",
    "        net = r.split('_')[0]\n",
    "        dataset = r.split('_')[1]\n",
    "        labels.append(bar_labels[idx]+' | '+str(round(test_accuracies[r],4)))\n",
    "        data.append(calculate_confidence_percentages(conf_scores[r]))\n",
    "    \n",
    "    data = np.array(data)\n",
    "    data_cum = data.cumsum(axis=1)\n",
    "    category_colors = plt.get_cmap('Spectral')(\n",
    "        np.linspace(0.15, 0.85, data.shape[1]))\n",
    "\n",
    "    fig, ax = plt.subplots(figsize=(4, 4))\n",
    "    ax.invert_yaxis()\n",
    "    ax.xaxis.set_visible(False)\n",
    "    ax.set_xlim(0, np.sum(data, axis=1).max())\n",
    "    ax.text(15, 4, 'Confidence Score Distribution (%)', style='italic')\n",
    "    ax.text(-70, -1, 'Network | Dataset | Accuracy', style='italic')\n",
    "    ax.text(27, -1.75, 'Confidence Score Value', style='italic')\n",
    "            \n",
    "    for i, (colname, color) in enumerate(zip(category_names, category_colors)):\n",
    "        widths = data[:, i]\n",
    "        starts = data_cum[:, i] - widths\n",
    "        ax.barh(labels, widths, left=starts, height=0.8,\n",
    "                label=colname, color=color)\n",
    "        xcenters = starts + widths / 2\n",
    "\n",
    "        r, g, b, _ = color\n",
    "        text_color = 'white' if r * g * b < 0.5 else 'darkgrey'\n",
    "        for y, (x, c) in enumerate(zip(xcenters, widths)):\n",
    "            if int(c) > 0:\n",
    "                ax.text(x, y, str(int(c)), ha='center', va='center',\n",
    "                        color=text_color)\n",
    "    ax.legend(bbox_to_anchor=(0.1, 1),\n",
    "              loc='lower left', fontsize='medium', ncol=2)\n",
    "\n",
    "#     fig.suptitle(title, fontsize=16)\n",
    "    return fig, ax"
   ]
  },
  {
   "cell_type": "code",
   "execution_count": 6,
   "metadata": {},
   "outputs": [],
   "source": [
    "# Load conf scores and accuracies\n",
    "conf_scores = {}\n",
    "accuracies = {}\n",
    "for n in networks:\n",
    "    for d in datasets:\n",
    "        with open('../nsl/network_acc/{0}/{1}_train.json'.format(n,d), 'r') as res_file:\n",
    "            file = json.loads(res_file.read())\n",
    "            key = '{0}_{1}'.format(n.capitalize(),d)\n",
    "            if d == 'standard':\n",
    "                conf_scores[key] = file['noise_pct_0']['digit_confidence_dist']\n",
    "                accuracies[key] = file['noise_pct_0']['digit_accuracy']['mean']\n",
    "            else:\n",
    "                conf_scores[key] = file['noise_pct_100']['digit_confidence_dist']\n",
    "                accuracies[key] = file['noise_pct_100']['digit_accuracy']['mean']"
   ]
  },
  {
   "cell_type": "code",
   "execution_count": 7,
   "metadata": {},
   "outputs": [],
   "source": [
    "labels = ['Softmax | Standard', 'Softmax | Rotated',\n",
    "          'EDL-GEN | Standard', 'EDL-GEN | Rotated']"
   ]
  },
  {
   "cell_type": "code",
   "execution_count": 8,
   "metadata": {},
   "outputs": [
    {
     "data": {
      "image/png": "[encoded data removed]",
      "text/plain": [
       "<Figure size 288x288 with 1 Axes>"
      ]
     },
     "metadata": {
      "needs_background": "light"
     },
     "output_type": "display_data"
    }
   ],
   "source": [
    "plot(conf_scores, accuracies, category_names, labels)\n",
    "plt.savefig('sudoku_9x9_confidence.pdf', format='pdf', bbox_inches='tight')\n",
    "plt.show()"
   ]
  },
  {
   "cell_type": "code",
   "execution_count": null,
   "metadata": {},
   "outputs": [],
   "source": []
  }
 ],
 "metadata": {
  "kernelspec": {
   "display_name": "Python 3",
   "language": "python",
   "name": "python3"
  },
  "language_info": {
   "codemirror_mode": {
    "name": "ipython",
    "version": 3
   },
   "file_extension": ".py",
   "mimetype": "text/x-python",
   "name": "python",
   "nbconvert_exporter": "python",
   "pygments_lexer": "ipython3",
   "version": "3.7.3"
  }
 },
 "nbformat": 4,
 "nbformat_minor": 4
}
